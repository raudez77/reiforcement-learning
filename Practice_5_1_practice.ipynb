{
 "cells": [
  {
   "cell_type": "code",
   "execution_count": 2,
   "metadata": {},
   "outputs": [],
   "source": [
    "import collections\n",
    "import numpy as np \n",
    "import gymnasium as gym"
   ]
  },
  {
   "attachments": {},
   "cell_type": "markdown",
   "metadata": {},
   "source": [
    "#### $ Discretization : $ \n",
    "- Discretization is the process of transforming continuous data or variables into discrete or categorical data or variables. In other words, it involves breaking down a continuous variable into distinct groups or categories. This is often done in order to simplify data analysis, as working with discrete values can be more efficient and easier to interpret than working with continuous values. Discretization is commonly used in fields such as statistics, data analysis, and machine learning, where continuous data must be converted into a form that can be processed by algorithms or models. There are various methods of discretization, including binning, clustering, and decision trees.\n",
    "\n",
    "#### $ Classes \\ and \\ Functions $"
   ]
  },
  {
   "cell_type": "code",
   "execution_count": 55,
   "metadata": {},
   "outputs": [],
   "source": [
    "class DiscretizedEnvironment(gym.Wrapper):\n",
    "    \"\"\"\n",
    "    class that discretize continuos data into categorical \n",
    "\n",
    "    arguments:\n",
    "    - env : gym.make environment object\n",
    "    - n_bins: int, number of bins to discretize\n",
    "\n",
    "    return :\n",
    "\n",
    "    \n",
    "    \"\"\"\n",
    "\n",
    "    def __init__(self, env: gym.make, n_bins : int = 10):\n",
    "        super().__init__(env)\n",
    "        self.n_bins = n_bins \n",
    "\n",
    "        # discretize observation space\n",
    "        high = env.observation_space.high\n",
    "        low = env.observation_space.low\n",
    "        self.observation_space = gym.spaces.Discrete(n_bins ** len(high))   # ============ Reason ===========\n",
    "                                                                            # We calculate the total number of possible states by taking the product of the number of bins for each dimension.\n",
    "                                                                            # For example, if n_bins is 10 and there are two dimensions in the observation space, then the total number of possible states is 10 ** 2 = 100.\n",
    "                                                                            # ===============================\n",
    "        # Define Bins for each dimension         \n",
    "        self.observation_bins = [np.linspace(low[i], high[i], n_bins +1)[1:-1] for i in range(len(low))]    # ============ Reason ===========\n",
    "                                                                                                            # low and high are arrays that represent the lower and upper bounds of each dimension\n",
    "                                                                                                            # np.linspace takes three arguments: the start value (low[i]), the end value (high[i]), and the number of intervals (n_bins + 1) between the start and end values. \n",
    "                                                                                                            # We add 1 to n_bins because we want to include both the lower and upper bounds in the bins.\n",
    "                                                                                                            # We then select only the inner bins (excluding the lower and upper bounds) using the slicing notation [1:-1].\n",
    "                                                                                                            # We do this for each dimension in the observation space by iterating over range(len(low))                                                                                        \n",
    "        # Define action space                                                                               # ===========================================================================================\n",
    "        self.action_space = gym.spaces.Discrete(3) # 3 discrete actions: push left, do nothing, push right\n",
    "         \n",
    "    def _discretize_observation(self, obs):\n",
    "        \"\"\" discretize the space\n",
    "        \n",
    "        arguments:\n",
    "        - obs : observation space\n",
    "        \n",
    "        return \n",
    "        - state\n",
    "        \n",
    "        \"\"\"\n",
    "\n",
    "        # convert continuous spaces to discrete\n",
    "        state = 0\n",
    "        for i, b in enumerate(self.observation_bins):\n",
    "            state += np.digitize(obs[i], b) * ((self.n_bins) ** i)\n",
    "        return state\n",
    "    \n",
    "    def reset(self):\n",
    "        obs = self.env.reset()[0]\n",
    "        return self._discretize_observation(obs)\n",
    "    \n",
    "    def step(self, action):\n",
    "        observation, reward, terminated, truncated, info = self.env.step(action-1)\n",
    "        return self._discretize_observation(observation), reward, terminated, truncated, info\n",
    "        \n"
   ]
  },
  {
   "attachments": {},
   "cell_type": "markdown",
   "metadata": {},
   "source": [
    "#### $ Solving \\ MountainCar \\ Problem $"
   ]
  },
  {
   "cell_type": "code",
   "execution_count": 56,
   "metadata": {},
   "outputs": [],
   "source": [
    "ENV = {'id' :\"MountainCar-v0\", 'render_mode':'human'}\n",
    "env = gym.make(**ENV)\n",
    "\n",
    "env_ = DiscretizedEnvironment(gym.make(**ENV))"
   ]
  },
  {
   "cell_type": "code",
   "execution_count": 57,
   "metadata": {},
   "outputs": [
    {
     "name": "stderr",
     "output_type": "stream",
     "text": [
      "c:\\Users\\11109808\\Anaconda3\\lib\\site-packages\\gym\\utils\\passive_env_checker.py:233: DeprecationWarning: `np.bool8` is a deprecated alias for `np.bool_`.  (Deprecated NumPy 1.24)\n",
      "  if not isinstance(terminated, (bool, np.bool8)):\n"
     ]
    },
    {
     "data": {
      "text/plain": [
       "(43, -1.0, False, False, {})"
      ]
     },
     "execution_count": 57,
     "metadata": {},
     "output_type": "execute_result"
    }
   ],
   "source": [
    "env_.reset()\n",
    "env_.step(1)"
   ]
  },
  {
   "cell_type": "code",
   "execution_count": 53,
   "metadata": {},
   "outputs": [
    {
     "name": "stderr",
     "output_type": "stream",
     "text": [
      "c:\\Users\\11109808\\Anaconda3\\lib\\site-packages\\gym\\utils\\passive_env_checker.py:233: DeprecationWarning: `np.bool8` is a deprecated alias for `np.bool_`.  (Deprecated NumPy 1.24)\n",
      "  if not isinstance(terminated, (bool, np.bool8)):\n"
     ]
    },
    {
     "data": {
      "text/plain": [
       "(array([-5.2406925e-01,  3.5550747e-06], dtype=float32),\n",
       " -1.0,\n",
       " False,\n",
       " False,\n",
       " {})"
      ]
     },
     "execution_count": 53,
     "metadata": {},
     "output_type": "execute_result"
    }
   ],
   "source": [
    "env.reset()\n",
    "env.step(1)"
   ]
  }
 ],
 "metadata": {
  "kernelspec": {
   "display_name": "base",
   "language": "python",
   "name": "python3"
  },
  "language_info": {
   "codemirror_mode": {
    "name": "ipython",
    "version": 3
   },
   "file_extension": ".py",
   "mimetype": "text/x-python",
   "name": "python",
   "nbconvert_exporter": "python",
   "pygments_lexer": "ipython3",
   "version": "3.9.12"
  },
  "orig_nbformat": 4
 },
 "nbformat": 4,
 "nbformat_minor": 2
}
