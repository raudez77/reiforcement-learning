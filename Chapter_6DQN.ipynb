{
 "cells": [
  {
   "cell_type": "code",
   "execution_count": 2,
   "metadata": {},
   "outputs": [],
   "source": [
    "import cv2\n",
    "import typing\n",
    "import collections \n",
    "import numpy as np \n",
    "import gymnasium as gym \n",
    "import gymnasium.spaces\n",
    "import ale_py"
   ]
  },
  {
   "attachments": {},
   "cell_type": "markdown",
   "metadata": {},
   "source": [
    "#### $ Dependences $"
   ]
  },
  {
   "cell_type": "code",
   "execution_count": 3,
   "metadata": {},
   "outputs": [],
   "source": [
    "# pip install \"gymnasium[atari, accept-rom-license]\""
   ]
  },
  {
   "cell_type": "code",
   "execution_count": 4,
   "metadata": {},
   "outputs": [],
   "source": [
    "from ale_py import ALEInterface\n",
    "\n",
    "ale = ALEInterface()"
   ]
  },
  {
   "attachments": {},
   "cell_type": "markdown",
   "metadata": {},
   "source": [
    "#### $ Classes \\ and \\ Functions $ "
   ]
  },
  {
   "cell_type": "code",
   "execution_count": 17,
   "metadata": {},
   "outputs": [],
   "source": [
    "class FireResetEnv(gym.Wrapper):\n",
    "    \"\"\" Module which Reset the environment and Re-Start the game\n",
    "    Arguments:\n",
    "    - env: gym.make, object environment\"\"\"\n",
    "\n",
    "    def __init__(self, env=None):\n",
    "        super(FireResetEnv, self).__init__(env)\n",
    "        assert env.unwrapped.get_action_meanings()[1] == 'FIRE', f\"The 2nd Action must be 'FIRE' but {env.unwrapped.get_action_meanings()[1]} is passed instead.\"\n",
    "        assert len(env.unwrapped.get_action_meanings()) >= 3, f\" Action spaces must be greater than 3, not {len(env.unwrapped.get_action_meanings())}\"\n",
    "\n",
    "    def reset(self):\n",
    "        \"\"\" Reset Environment\"\"\"\n",
    "        self.env.reset()\n",
    "    \n",
    "    def step(self, action):\n",
    "        self.reset() # Reset Environment\n",
    "\n",
    "        # Double Checking that the Game Starts\n",
    "        # Sometimes the games does not start with the action FIRE\n",
    "        # so we move the bar to the right/left to initiate the Game\n",
    "\n",
    "        obs, _, done, _ , _ = self.env.step(1) # pass the FIRE OR START ACTION\n",
    "        if done:\n",
    "            self.reset()\n",
    "\n",
    "        obs, _, done, _ , _ - self.env.step(2)\n",
    "        if done:\n",
    "            self.reset()\n",
    "\n",
    "\n",
    "        "
   ]
  },
  {
   "cell_type": "code",
   "execution_count": null,
   "metadata": {},
   "outputs": [],
   "source": [
    "env = gym.make(\"ALE/Pong-v5\")\n",
    "FireResetEnv(env)\n"
   ]
  },
  {
   "attachments": {},
   "cell_type": "markdown",
   "metadata": {},
   "source": [
    "#### $ Solving \\ Pong \\ Atari \\ Games $ \n",
    "\n",
    "This environment is part of the Atari environments.\n",
    "\n",
    "|Description | Values | \n",
    "| --- | --- |\n",
    "|Action Space|Discrete(6)|\n",
    "|Observation Shape | (210, 160, 3)|\n",
    "|Observation High | 255|\n",
    "|Observation Low | 0|\n",
    "|Import | gymnasium.make(\"ALE/Pong-v5\")|\n",
    "\n",
    "\n",
    "Pong has the action space Discrete(6)\n",
    "\n",
    "| Value | Meaning |\n",
    "| --- | --- | \n",
    "| 0| NOOP|\n",
    "| 1| FIRE|\n",
    "| 2| RIGHT|\n",
    "| 3| LEFT|\n",
    "| 4| RIGHTFIRE |\n",
    "| 5| LEFTFIRE | "
   ]
  }
 ],
 "metadata": {
  "kernelspec": {
   "display_name": "base",
   "language": "python",
   "name": "python3"
  },
  "language_info": {
   "codemirror_mode": {
    "name": "ipython",
    "version": 3
   },
   "file_extension": ".py",
   "mimetype": "text/x-python",
   "name": "python",
   "nbconvert_exporter": "python",
   "pygments_lexer": "ipython3",
   "version": "3.9.12"
  },
  "orig_nbformat": 4
 },
 "nbformat": 4,
 "nbformat_minor": 2
}
