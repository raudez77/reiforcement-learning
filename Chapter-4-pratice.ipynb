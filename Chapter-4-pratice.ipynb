{
 "cells": [
  {
   "cell_type": "code",
   "execution_count": 36,
   "metadata": {},
   "outputs": [],
   "source": [
    "import time\n",
    "import torch \n",
    "import collections\n",
    "import numpy as np\n",
    "import torch.nn as nn\n",
    "import gymnasium as gym"
   ]
  },
  {
   "cell_type": "markdown",
   "metadata": {},
   "source": [
    "#### $ Functions \\ and \\ Classes $"
   ]
  },
  {
   "cell_type": "code",
   "execution_count": 71,
   "metadata": {},
   "outputs": [],
   "source": [
    "class PolicyNeuralNetwork(nn.Module):\n",
    "    \"\"\" Internal NN Policy mapper decision for the agent to choose an action \"\"\"\n",
    "    def __init__(self, obs_size:int, hidden_size:int, n_actions:int):\n",
    "        super(PolicyNeuralNetwork, self).__init__()\n",
    "\n",
    "        self.policy = nn.Sequential(\n",
    "            nn.Linear(in_features=obs_size, out_features=hidden_size),\n",
    "            nn.ReLU(),\n",
    "            nn.Linear(in_features=hidden_size, out_features=n_actions)\n",
    "        )\n",
    "\n",
    "    def forward(self, X:torch.FloatTensor)-> torch.FloatTensor:\n",
    "        return torch.tanh(self.policy(X)) * 2 # Tanh activation maps the output to the range (-1, 1) , # Scale the output to the range (-2, 2)   "
   ]
  },
  {
   "attachments": {},
   "cell_type": "markdown",
   "metadata": {},
   "source": [
    "#### $ Solving \\ the \\ Pendulum \\ Problem \\ with \\ Cross \\ Entropy $"
   ]
  },
  {
   "cell_type": "code",
   "execution_count": null,
   "metadata": {},
   "outputs": [],
   "source": [
    "def iterate_batches(env:gym.make, Policy:nn.Module, batch_size:int):\n",
    "    \"\"\" Iterate thorugh batches and run the enviroment \n",
    "    Parameters:\n",
    "    - env: enviroment \n",
    "    - policy: Policy Neural Network \n",
    "    - batch_size: batch size\"\"\"\n",
    "\n",
    "    batch = []\n",
    "    episode_reward = 0.0\n",
    "    episode_step = []\n",
    "    obs = env.reset() # ouput three value, x value, y value and Angular Velocity \n",
    "\n",
    "    while True:\n",
    "        abs_vector = torch.FloatTensor(np.array(obs))\n",
    "        agent_policy_action = Policy(abs_vector).detach.numpy() # Feed Neural Network\n",
    "        \n",
    "        # Passing Action into environment \n",
    "        next_obs, reward, is_done, _ , _ = env.step(agent_policy_action)\n",
    "        episode_reward += reward\n",
    "        episode_step.append(EpisodeStep(observation=obs, action=agent_policy_action))\n",
    "\n",
    "        if is_done: # \n",
    "            batch.append(Episode(reward = episode_reward, steps = episode_step))\n",
    "            episode_reward = 0.0\n",
    "            episode_step = []\n",
    "            next_obs =  env.reset()[0]\n",
    "\n",
    "            if len(batch) == batch_size:\n",
    "                yield batch \n",
    "                batch = []\n",
    "        \n",
    "        obs = next_obs\n",
    "\n",
    "\n",
    "def filter_batches (batches:collections.namedtuples)\n"
   ]
  },
  {
   "cell_type": "code",
   "execution_count": 77,
   "metadata": {},
   "outputs": [],
   "source": [
    "env = gym.make('Pendulum-v1', g=9.81 , render_mode = 'human')"
   ]
  },
  {
   "cell_type": "code",
   "execution_count": 93,
   "metadata": {},
   "outputs": [],
   "source": [
    "Pnet = PolicyNeuralNetwork(obs_size = env.observation_space.shape[0], hidden_size=128, n_actions=env.action_space.shape[0] )\n",
    "action = Pnet(torch.FloatTensor(env.reset()[0])).detach().numpy()\n"
   ]
  },
  {
   "cell_type": "code",
   "execution_count": 95,
   "metadata": {},
   "outputs": [
    {
     "data": {
      "text/plain": [
       "(array([ 0.9616733,  0.2741978, -0.5649217], dtype=float32),\n",
       " -0.1530805647400809,\n",
       " False,\n",
       " False,\n",
       " {})"
      ]
     },
     "execution_count": 95,
     "metadata": {},
     "output_type": "execute_result"
    }
   ],
   "source": [
    " env.step(action)"
   ]
  },
  {
   "cell_type": "code",
   "execution_count": null,
   "metadata": {},
   "outputs": [],
   "source": [
    "class PolicyNeuralNetwork(nn.Module):\n",
    "    \"\"\" Internal NN Policy mapper decision for the agent to choose an action \"\"\"\n",
    "    def __init__(self, obs_size:int, hidden_size:int, n_actions:int):\n",
    "        super(PolicyNeuralNetwork, self).__init__()\n",
    "\n",
    "        self.policy = nn.Sequential(\n",
    "            nn.Linear(in_features=obs_size, out_features=hidden_size),\n",
    "            nn.ReLU(),\n",
    "            nn.Linear(in_features=hidden_size, out_features=n_actions)\n",
    "        )\n",
    "\n",
    "    def forward(self, X:torch.FloatTensor)-> torch.FloatTensor:\n",
    "        return torch.tanh(self.policy(X)) * 2 # Tanh activation maps the output to the range (-1, 1) , # Scale the output to the range (-2, 2)  \n",
    "\n",
    "\n",
    "def iterate_batches(env:gym.make, Policy:nn.Module, batch_size:int):\n",
    "    \"\"\" Iterate thorugh batches and run the enviroment \n",
    "    Parameters:\n",
    "    - env: enviroment \n",
    "    - policy: Policy Neural Network \n",
    "    - batch_size: batch size\"\"\"\n",
    "\n",
    "    batch = []\n",
    "    episode_reward = 0.0\n",
    "    episode_step = []\n",
    "    obs = env.reset() # ouput three value, x value, y value and Angular Velocity \n",
    "\n",
    "    while True:\n",
    "        abs_vector = torch.FloatTensor(np.array(obs))\n",
    "        agent_policy_action = Policy(abs_vector).detach.numpy() # Feed Neural Network\n",
    "        \n",
    "        # Passing Action into environment \n",
    "        next_obs, reward, is_done, _ , _ = env.step(agent_policy_action)\n",
    "        episode_reward += reward\n",
    "        episode_step.append(EpisodeStep(observation=obs, action=agent_policy_action))\n",
    "\n",
    "        if is_done: # \n",
    "            batch.append(Episode(reward = episode_reward, steps = episode_step))\n",
    "            episode_reward = 0.0\n",
    "            episode_step = []\n",
    "            next_obs =  env.reset()[0]\n",
    "\n",
    "            if len(batch) == batch_size:\n",
    "                yield batch \n",
    "                batch = []\n",
    "        \n",
    "        obs = next_obs\n",
    "\n",
    "# Create the Neural Network \n",
    "HIDDEN_LAYERS = 50\n",
    "BATCH_SIZE = 16\n",
    "PERCENTILE = 70\n",
    "\n",
    "# Keep tracking of each episode and Steps\n",
    "Episode = namedtuple('Episode', field_names= ['reward','steps'])\n",
    "EpisodeStep = namedtuple('EpisodeStep', field_names= ['observation', 'action'])\n",
    "\n",
    "I created this code to solve the pendulum problem enviroment , however now i need to ask you this \n",
    "I see that other poepl usually take the best performance and keep them to retrain the neural networll \n",
    "by using a lind of reward bound , can i do this ? \n",
    "and give some ideas how to do it, how can i define the reward bound"
   ]
  }
 ],
 "metadata": {
  "kernelspec": {
   "display_name": "base",
   "language": "python",
   "name": "python3"
  },
  "language_info": {
   "codemirror_mode": {
    "name": "ipython",
    "version": 3
   },
   "file_extension": ".py",
   "mimetype": "text/x-python",
   "name": "python",
   "nbconvert_exporter": "python",
   "pygments_lexer": "ipython3",
   "version": "3.9.13"
  },
  "orig_nbformat": 4
 },
 "nbformat": 4,
 "nbformat_minor": 2
}
