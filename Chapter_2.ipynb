{
 "cells": [
  {
   "cell_type": "code",
   "execution_count": 1,
   "metadata": {},
   "outputs": [],
   "source": [
    "import random \n",
    "from typing import List"
   ]
  },
  {
   "attachments": {},
   "cell_type": "markdown",
   "metadata": {},
   "source": [
    "#### $ Example \\ 1 \\ - \\ Simple \\ Class \\ Enviroment \\ Creation. $"
   ]
  },
  {
   "cell_type": "code",
   "execution_count": 6,
   "metadata": {},
   "outputs": [],
   "source": [
    "# Create Enviroment \n",
    "class Enviroment:\n",
    "    \"\"\" My First Enviroment\"\"\"\n",
    "\n",
    "    def __init__(self):\n",
    "        self.step_left = 10\n",
    "\n",
    "    def get_observation(self)-> List[float]:\n",
    "        return [0.0, 0.0, 0.0]\n",
    "\n",
    "    def get_action(self) -> List[int]:\n",
    "        return [0,1]\n",
    "\n",
    "    def is_done(self)-> bool:\n",
    "        return self.step_left == 0\n",
    "\n",
    "    def action(self, action:int)-> float:\n",
    "        if self.is_done():\n",
    "            raise Exception (\"Program Files\")\n",
    "        self.step_left -= 1\n",
    "        return random.random()\n",
    "\n",
    "# Creat Agent \n",
    "class Agent:\n",
    "    \"\"\" My First Agent\"\"\"\n",
    "    def __init__(self):\n",
    "        self.reward = 0\n",
    "\n",
    "    def step(self, env:Enviroment):\n",
    "        current_obs = env.get_observation()\n",
    "        actions = env.get_actions()\n",
    "        rewards = env.action(randon.choices(actions))\n",
    "        self.total_reward += reward\n",
    "\n",
    " \n"
   ]
  },
  {
   "cell_type": "code",
   "execution_count": 7,
   "metadata": {},
   "outputs": [],
   "source": [
    "env = Enviroment()"
   ]
  },
  {
   "cell_type": "code",
   "execution_count": null,
   "metadata": {},
   "outputs": [],
   "source": []
  }
 ],
 "metadata": {
  "kernelspec": {
   "display_name": "base",
   "language": "python",
   "name": "python3"
  },
  "language_info": {
   "codemirror_mode": {
    "name": "ipython",
    "version": 3
   },
   "file_extension": ".py",
   "mimetype": "text/x-python",
   "name": "python",
   "nbconvert_exporter": "python",
   "pygments_lexer": "ipython3",
   "version": "3.9.13"
  },
  "orig_nbformat": 4
 },
 "nbformat": 4,
 "nbformat_minor": 2
}
